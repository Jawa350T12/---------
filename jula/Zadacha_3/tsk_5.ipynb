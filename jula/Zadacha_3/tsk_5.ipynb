{
 "cells": [
  {
   "cell_type": "code",
   "execution_count": 15,
   "metadata": {},
   "outputs": [],
   "source": [
    "using HorizonSideRobots"
   ]
  },
  {
   "cell_type": "code",
   "execution_count": 20,
   "metadata": {},
   "outputs": [
    {
     "data": {
      "text/plain": [
       "Robot(HorizonSideRobots.SituationDatas.SituationData((0x000000000000000b, 0x000000000000000c), 1.0, true, (11, 1), [341 366 … -263 -256; 271 -69 … 33 -39; … ; 485 382 … 253 174; 380 -9 … 10 192], Set{Tuple{Int64, Int64}}(), Set{HorizonSide}[Set() Set() … Set() Set(); Set() Set() … Set() Set(); … ; Set() Set() … Set() Set(); Set() Set() … Set() Set()], (Scene (780px, 715px):\n",
       "  0 Plots\n",
       "  1 Child Scene:\n",
       "    └ Scene (780px, 715px), Axis (6 plots))), true)"
      ]
     },
     "metadata": {},
     "output_type": "display_data"
    }
   ],
   "source": [
    "r=Robot(animate=true)"
   ]
  },
  {
   "cell_type": "code",
   "execution_count": 18,
   "metadata": {},
   "outputs": [
    {
     "data": {
      "text/plain": [
       "moves! (generic function with 1 method)"
      ]
     },
     "metadata": {},
     "output_type": "display_data"
    }
   ],
   "source": [
    "function moves!(r::Robot, side::HorizonSide, n_steps::Int)\n",
    "    for i in 1:n_steps\n",
    "        move!(r, side)\n",
    "    end\n",
    "end"
   ]
  },
  {
   "cell_type": "code",
   "execution_count": 22,
   "metadata": {},
   "outputs": [
    {
     "data": {
      "text/plain": [
       "get_left_down_angle_modified! (generic function with 1 method)"
      ]
     },
     "metadata": {},
     "output_type": "display_data"
    }
   ],
   "source": [
    "function get_left_down_angle_modified!(r::Robot)::Vector{Tuple{HorizonSide, Int}}\n",
    "    steps = []\n",
    "    while !(isborder(r, West) && isborder(r, Sud))\n",
    "        steps_to_West = move_until_border!(r, West)\n",
    "        steps_to_Sud = move_until_border!(r, Sud)\n",
    "        push!(steps, (West, steps_to_West))\n",
    "        push!(steps, (Sud, steps_to_Sud))\n",
    "    end\n",
    "    return steps\n",
    "end"
   ]
  },
  {
   "cell_type": "code",
   "execution_count": 23,
   "metadata": {},
   "outputs": [
    {
     "data": {
      "text/plain": [
       "move_if_possible! (generic function with 1 method)"
      ]
     },
     "metadata": {},
     "output_type": "display_data"
    }
   ],
   "source": [
    "function move_if_possible!(r::Robot, side::HorizonSide)::Bool\n",
    "    if !isborder(r, side)\n",
    "        move!(r, side)\n",
    "        return true\n",
    "    end\n",
    "    return false\n",
    "end"
   ]
  },
  {
   "cell_type": "code",
   "execution_count": 24,
   "metadata": {},
   "outputs": [
    {
     "data": {
      "text/plain": [
       "inversed_path (generic function with 1 method)"
      ]
     },
     "metadata": {},
     "output_type": "display_data"
    }
   ],
   "source": [
    "function inversed_path(path::Vector{Tuple{HorizonSide, Int}})::Vector{Tuple{HorizonSide, Int}}\n",
    "    inv_path = []\n",
    "    for step in path\n",
    "        inv_step = (inverse_side(step[1]), step[2])\n",
    "        push!(inv_path, inv_step)\n",
    "    end\n",
    "    reverse!(inv_path)\n",
    "    return inv_path\n",
    "end"
   ]
  },
  {
   "cell_type": "code",
   "execution_count": 6,
   "metadata": {},
   "outputs": [
    {
     "data": {
      "text/plain": [
       "make_way! (generic function with 1 method)"
      ]
     },
     "metadata": {},
     "output_type": "display_data"
    }
   ],
   "source": [
    "function make_way!(r::Robot, path::Vector{Tuple{HorizonSide, Int}})\n",
    "    for step in path\n",
    "        moves!(r, step[1], step[2])\n",
    "    end\n",
    "end"
   ]
  },
  {
   "cell_type": "code",
   "execution_count": 25,
   "metadata": {},
   "outputs": [
    {
     "data": {
      "text/plain": [
       "make_way_back! (generic function with 1 method)"
      ]
     },
     "metadata": {},
     "output_type": "display_data"
    }
   ],
   "source": [
    "function make_way_back!(r::Robot, path::Vector{Tuple{HorizonSide, Int}})\n",
    "    inv_path = inversed_path(path)\n",
    "    make_way!(r, inv_path)\n",
    "end"
   ]
  },
  {
   "cell_type": "code",
   "execution_count": 26,
   "metadata": {},
   "outputs": [
    {
     "data": {
      "text/plain": [
       "mark_inner_rectangle! (generic function with 1 method)"
      ]
     },
     "metadata": {},
     "output_type": "display_data"
    }
   ],
   "source": [
    "function mark_inner_rectangle!(r::Robot)\n",
    "    steps = get_left_down_angle_modified!(r)\n",
    "\n",
    "    while isborder(r, Sud) && !isborder(r, Ost)\n",
    "        move_until_border!(r, Nord)\n",
    "        move!(r, Ost)\n",
    "        while !isborder(r, Ost) && move_if_possible!(r, Sud) end\n",
    "    end\n",
    "\n",
    "    for sides in [(Sud, Ost), (Ost, Nord), (Nord, West), (West, Sud)]\n",
    "        side_to_move, side_to_border = sides\n",
    "        while isborder(r, side_to_border)\n",
    "            putmarker!(r)\n",
    "            move!(r, side_to_move)\n",
    "        end\n",
    "        putmarker!(r)\n",
    "        move!(r, side_to_border)\n",
    "    end\n",
    "\n",
    "    get_left_down_angle_modified!(r)\n",
    "    make_way_back!(r, steps)\n",
    "end"
   ]
  },
  {
   "cell_type": "code",
   "execution_count": 27,
   "metadata": {},
   "outputs": [
    {
     "data": {
      "text/plain": [
       "move_until_border! (generic function with 1 method)"
      ]
     },
     "metadata": {},
     "output_type": "display_data"
    }
   ],
   "source": [
    "function move_until_border!(r::Robot, side::HorizonSide)::Int\n",
    "    n_steps = 0\n",
    "    while !isborder(r, side)\n",
    "        n_steps += 1\n",
    "        move!(r, side)\n",
    "    end\n",
    "    return n_steps\n",
    "end"
   ]
  },
  {
   "cell_type": "code",
   "execution_count": 28,
   "metadata": {},
   "outputs": [
    {
     "data": {
      "text/plain": [
       "inverse_side (generic function with 1 method)"
      ]
     },
     "metadata": {},
     "output_type": "display_data"
    }
   ],
   "source": [
    "function inverse_side(side::HorizonSide)::HorizonSide\n",
    "    inv_side = HorizonSide((Int(side) + 2) % 4)\n",
    "    return inv_side\n",
    "end"
   ]
  },
  {
   "cell_type": "code",
   "execution_count": 29,
   "metadata": {},
   "outputs": [],
   "source": [
    "mark_inner_rectangle!(r)"
   ]
  }
 ],
 "metadata": {
  "kernelspec": {
   "display_name": "Julia 1.9.3",
   "language": "julia",
   "name": "julia-1.9"
  },
  "language_info": {
   "file_extension": ".jl",
   "mimetype": "application/julia",
   "name": "julia",
   "version": "1.9.3"
  }
 },
 "nbformat": 4,
 "nbformat_minor": 2
}
