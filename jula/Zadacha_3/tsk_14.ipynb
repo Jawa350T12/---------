{
 "cells": [
  {
   "cell_type": "code",
   "execution_count": 1,
   "metadata": {},
   "outputs": [],
   "source": [
    "using HorizonSideRobots"
   ]
  },
  {
   "cell_type": "code",
   "execution_count": 11,
   "metadata": {},
   "outputs": [
    {
     "data": {
      "text/plain": [
       "Robot(HorizonSideRobots.SituationDatas.SituationData((0x000000000000000b, 0x000000000000000c), 1.0, true, (11, 1), [251 405 … -128 -173; -14 276 … 168 393; … ; 13 371 … -231 229; 73 207 … 133 477], Set{Tuple{Int64, Int64}}(), Set{HorizonSide}[Set() Set() … Set() Set(); Set() Set() … Set() Set(); … ; Set() Set() … Set() Set(); Set() Set() … Set() Set()], (Scene (780px, 715px):\n",
       "  0 Plots\n",
       "  1 Child Scene:\n",
       "    └ Scene (780px, 715px), Axis (6 plots))), true)"
      ]
     },
     "metadata": {},
     "output_type": "display_data"
    }
   ],
   "source": [
    "r=Robot(animate=true)"
   ]
  },
  {
   "cell_type": "code",
   "execution_count": 3,
   "metadata": {},
   "outputs": [
    {
     "data": {
      "text/plain": [
       "final! (generic function with 1 method)"
      ]
     },
     "metadata": {},
     "output_type": "display_data"
    }
   ],
   "source": [
    "function final!(robot)\n",
    "    numSud, numWest=tocorner!(robot)\n",
    "    snake!(robot,(Ost,Nord))\n",
    "end"
   ]
  },
  {
   "cell_type": "code",
   "execution_count": 4,
   "metadata": {},
   "outputs": [
    {
     "data": {
      "text/plain": [
       "inverse_side (generic function with 1 method)"
      ]
     },
     "metadata": {},
     "output_type": "display_data"
    }
   ],
   "source": [
    "function inverse_side(side::HorizonSide)::HorizonSide\n",
    "    inv_side = HorizonSide((Int(side) + 2) % 4)\n",
    "    return inv_side\n",
    "end"
   ]
  },
  {
   "cell_type": "code",
   "execution_count": 5,
   "metadata": {},
   "outputs": [
    {
     "data": {
      "text/plain": [
       "firstplace! (generic function with 1 method)"
      ]
     },
     "metadata": {},
     "output_type": "display_data"
    }
   ],
   "source": [
    "function firstplace!(robot,side,num_steps)\n",
    "    for _ in 1:num_steps\n",
    "        move!(robot,side)\n",
    "    end\n",
    "end"
   ]
  },
  {
   "cell_type": "code",
   "execution_count": 6,
   "metadata": {},
   "outputs": [
    {
     "data": {
      "text/plain": [
       "tocorner! (generic function with 1 method)"
      ]
     },
     "metadata": {},
     "output_type": "display_data"
    }
   ],
   "source": [
    "function tocorner!(robot)\n",
    "    numvert=0\n",
    "    numhori=0\n",
    "    while !isborder(robot,West) || !isborder(robot,Sud)\n",
    "        if isborder(robot,West)\n",
    "            move!(robot,Sud)\n",
    "            numvert+=1\n",
    "        else\n",
    "            move!(robot,West)\n",
    "            numhori+=1\n",
    "        end\n",
    "    end\n",
    "    return numvert, numhori\n",
    "end"
   ]
  },
  {
   "cell_type": "code",
   "execution_count": 7,
   "metadata": {},
   "outputs": [
    {
     "data": {
      "text/plain": [
       "along! (generic function with 1 method)"
      ]
     },
     "metadata": {},
     "output_type": "display_data"
    }
   ],
   "source": [
    "function along!(robot, side)\n",
    "    numstep=0\n",
    "    numlilvert=0\n",
    "    while try_move!(robot, side) # - в этом логическом выражении порядок аргументов важен!\n",
    "        if (numstep%2==0)\n",
    "            putmarker!(robot)\n",
    "        end\n",
    "        numstep+=1\n",
    "        if numstep<11 && isborder(robot,side)\n",
    "            while isborder(robot,side)\n",
    "                move!(robot,Sud)\n",
    "                numlilvert+=1\n",
    "            end\n",
    "            move!(robot,side)\n",
    "            numstep+=1\n",
    "            while isborder(robot,Nord)\n",
    "                move!(robot,side)\n",
    "                numstep+=1\n",
    "            end\n",
    "            for _ in 1:numlilvert\n",
    "                move!(robot,Nord)\n",
    "            end\n",
    "            if side==West\n",
    "                putmarker!(robot)\n",
    "            end\n",
    "            numlilvert=0\n",
    "        end\n",
    "        if numstep==12\n",
    "            numstep=0\n",
    "        end\n",
    "    end\n",
    "end"
   ]
  },
  {
   "cell_type": "code",
   "execution_count": 8,
   "metadata": {},
   "outputs": [
    {
     "data": {
      "text/plain": [
       "snake! (generic function with 1 method)"
      ]
     },
     "metadata": {},
     "output_type": "display_data"
    }
   ],
   "source": [
    "function snake!(robot,(side,side1))\n",
    "    along!(robot, side)\n",
    "    while try_move!(robot, side1)\n",
    "        side = inverse_side(side)\n",
    "        along!(robot, side)\n",
    "    end\n",
    "end"
   ]
  },
  {
   "cell_type": "code",
   "execution_count": 9,
   "metadata": {},
   "outputs": [
    {
     "data": {
      "text/plain": [
       "try_move! (generic function with 1 method)"
      ]
     },
     "metadata": {},
     "output_type": "display_data"
    }
   ],
   "source": [
    "function try_move!(robot,side)\n",
    "    if isborder(robot,side)\n",
    "        return false\n",
    "    else\n",
    "        move!(robot,side)\n",
    "        return true\n",
    "    end\n",
    "end"
   ]
  },
  {
   "cell_type": "code",
   "execution_count": 12,
   "metadata": {},
   "outputs": [],
   "source": [
    "final!(r)"
   ]
  }
 ],
 "metadata": {
  "kernelspec": {
   "display_name": "Julia 1.9.3",
   "language": "julia",
   "name": "julia-1.9"
  },
  "language_info": {
   "file_extension": ".jl",
   "mimetype": "application/julia",
   "name": "julia",
   "version": "1.9.3"
  }
 },
 "nbformat": 4,
 "nbformat_minor": 2
}
