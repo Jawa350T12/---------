{
 "cells": [
  {
   "cell_type": "code",
   "execution_count": 1,
   "metadata": {},
   "outputs": [],
   "source": [
    "using HorizonSideRobots"
   ]
  },
  {
   "cell_type": "code",
   "execution_count": 24,
   "metadata": {},
   "outputs": [
    {
     "data": {
      "text/plain": [
       "Robot(HorizonSideRobots.SituationDatas.SituationData((0x000000000000000b, 0x000000000000000c), 1.0, true, (11, 1), [319 50 … -69 140; -14 198 … 115 -160; … ; 246 1 … 314 -74; -233 454 … 198 467], Set{Tuple{Int64, Int64}}(), Set{HorizonSide}[Set() Set() … Set() Set(); Set() Set() … Set() Set(); … ; Set() Set() … Set() Set(); Set() Set() … Set() Set()], (Scene (780px, 715px):\n",
       "  0 Plots\n",
       "  1 Child Scene:\n",
       "    └ Scene (780px, 715px), Axis (6 plots))), true)"
      ]
     },
     "metadata": {},
     "output_type": "display_data"
    }
   ],
   "source": [
    "r=Robot(animate=true)"
   ]
  },
  {
   "cell_type": "code",
   "execution_count": 3,
   "metadata": {},
   "outputs": [
    {
     "data": {
      "text/plain": [
       "mark_square! (generic function with 1 method)"
      ]
     },
     "metadata": {},
     "output_type": "display_data"
    }
   ],
   "source": [
    "function mark_square!(r::Robot, n::Int)\n",
    "    \n",
    "    counter1 = 1\n",
    "    counter2 = 1\n",
    "\n",
    "    while counter1 <= n && !isborder(r, Ost)\n",
    "\n",
    "        while counter2 < n && !isborder(r, Nord)\n",
    "            putmarker!(r)\n",
    "            move!(r, Nord)\n",
    "            counter2 += 1\n",
    "        end\n",
    "\n",
    "        putmarker!(r)\n",
    "        moves!(r, Sud, counter2 - 1)\n",
    "        counter2 = 1\n",
    "\n",
    "        move!(r, Ost)\n",
    "        counter1 += 1\n",
    "    end\n",
    "\n",
    "    if isborder(r, Ost) && counter1 <= n\n",
    "        while counter2 < n && !isborder(r, Nord)\n",
    "            putmarker!(r)\n",
    "            move!(r, Nord)\n",
    "            counter2 += 1\n",
    "        end\n",
    "\n",
    "        putmarker!(r)\n",
    "        moves!(r, Sud, counter2 - 1)\n",
    "    end\n",
    "\n",
    "    moves!(r, West, counter1 - 1)\n",
    "end"
   ]
  },
  {
   "cell_type": "code",
   "execution_count": 4,
   "metadata": {},
   "outputs": [
    {
     "data": {
      "text/plain": [
       "moves_if_possible_numeric! (generic function with 1 method)"
      ]
     },
     "metadata": {},
     "output_type": "display_data"
    }
   ],
   "source": [
    "function moves_if_possible_numeric!(r::Robot, side::HorizonSide, n_steps::Int)::Int\n",
    "    \n",
    "    while n_steps > 0 && move_if_possible!(r, side)\n",
    "        n_steps -= 1\n",
    "    end\n",
    "\n",
    "    return n_steps\n",
    "end"
   ]
  },
  {
   "cell_type": "code",
   "execution_count": 5,
   "metadata": {},
   "outputs": [
    {
     "data": {
      "text/plain": [
       "mark_chess! (generic function with 1 method)"
      ]
     },
     "metadata": {},
     "output_type": "display_data"
    }
   ],
   "source": [
    "function mark_chess!(r::Robot, n::Int)\n",
    "    \n",
    "    steps = get_left_down_angle!(r)\n",
    "    side = Nord\n",
    "    to_mark = true\n",
    "\n",
    "    steps_to_ost_border = move_until_border!(r, Ost)\n",
    "    move_until_border!(r, West)\n",
    "    last_side = steps_to_ost_border % 2 == 1 ? Sud : Nord\n",
    "    last_n_steps = 0\n",
    "\n",
    "    while !isborder(r, Ost)\n",
    "        while !isborder(r, side)\n",
    "            if to_mark\n",
    "                mark_square!(r, n)\n",
    "            end\n",
    "\n",
    "            last_n_steps = moves_if_possible_numeric!(r, side, n)\n",
    "            if last_n_steps == 0 && !isborder(r, side)\n",
    "                to_mark = !to_mark\n",
    "            end\n",
    "        end\n",
    "\n",
    "        if to_mark\n",
    "            mark_square!(r, n)\n",
    "        end\n",
    "\n",
    "        to_mark = !to_mark\n",
    "\n",
    "        moves_if_possible!(r, Ost, n)\n",
    "        moves!(r,inverse_side(side), n - last_n_steps)\n",
    "        side = inverse_side(side)\n",
    "    end\n",
    "\n",
    "end"
   ]
  },
  {
   "cell_type": "code",
   "execution_count": 7,
   "metadata": {},
   "outputs": [
    {
     "data": {
      "text/plain": [
       "get_left_down_angle! (generic function with 1 method)"
      ]
     },
     "metadata": {},
     "output_type": "display_data"
    }
   ],
   "source": [
    "function get_left_down_angle!(r::Robot)::NTuple{2, Int}# перемещает робота в нижний левый угол, возвращает количество шагов\n",
    "    steps_to_left_border = move_until_border!(r, West)\n",
    "    steps_to_down_border = move_until_border!(r, Sud)\n",
    "    return (steps_to_down_border, steps_to_left_border)\n",
    "end"
   ]
  },
  {
   "cell_type": "code",
   "execution_count": 9,
   "metadata": {},
   "outputs": [
    {
     "data": {
      "text/plain": [
       "move_until_border! (generic function with 1 method)"
      ]
     },
     "metadata": {},
     "output_type": "display_data"
    }
   ],
   "source": [
    "function move_until_border!(r::Robot, side::HorizonSide)::Int\n",
    "    n_steps = 0\n",
    "    while !isborder(r, side)\n",
    "        n_steps += 1\n",
    "        move!(r, side)\n",
    "    end\n",
    "    return n_steps\n",
    "end"
   ]
  },
  {
   "cell_type": "code",
   "execution_count": 11,
   "metadata": {},
   "outputs": [
    {
     "data": {
      "text/plain": [
       "moves! (generic function with 1 method)"
      ]
     },
     "metadata": {},
     "output_type": "display_data"
    }
   ],
   "source": [
    "function moves!(r::Robot, side::HorizonSide, n_steps::Int)\n",
    "    for i in 1:n_steps\n",
    "        move!(r, side)\n",
    "    end\n",
    "end"
   ]
  },
  {
   "cell_type": "code",
   "execution_count": 15,
   "metadata": {},
   "outputs": [
    {
     "data": {
      "text/plain": [
       "move_if_possible! (generic function with 1 method)"
      ]
     },
     "metadata": {},
     "output_type": "display_data"
    }
   ],
   "source": [
    "function move_if_possible!(r::Robot, side::HorizonSide)::Bool\n",
    "    if !isborder(r, side)\n",
    "        move!(r, side)\n",
    "        return true\n",
    "    end\n",
    "    return false\n",
    "end"
   ]
  },
  {
   "cell_type": "code",
   "execution_count": 16,
   "metadata": {},
   "outputs": [
    {
     "data": {
      "text/plain": [
       "moves_if_possible! (generic function with 1 method)"
      ]
     },
     "metadata": {},
     "output_type": "display_data"
    }
   ],
   "source": [
    "function moves_if_possible!(r::Robot, side::HorizonSide, n_steps::Int)::Bool\n",
    "    \n",
    "    while n_steps > 0 && move_if_possible!(r, side)\n",
    "        n_steps -= 1\n",
    "    end\n",
    "\n",
    "    if n_steps == 0\n",
    "        return true\n",
    "    end\n",
    "\n",
    "    return false\n",
    "end\n"
   ]
  },
  {
   "cell_type": "code",
   "execution_count": 20,
   "metadata": {},
   "outputs": [
    {
     "data": {
      "text/plain": [
       "inverse_side (generic function with 1 method)"
      ]
     },
     "metadata": {},
     "output_type": "display_data"
    }
   ],
   "source": [
    "function inverse_side(side::HorizonSide)::HorizonSide\n",
    "    inv_side = HorizonSide((Int(side) + 2) % 4)\n",
    "    return inv_side\n",
    "end"
   ]
  },
  {
   "cell_type": "code",
   "execution_count": 25,
   "metadata": {},
   "outputs": [],
   "source": [
    "mark_chess!(r,3)"
   ]
  }
 ],
 "metadata": {
  "kernelspec": {
   "display_name": "Julia 1.9.3",
   "language": "julia",
   "name": "julia-1.9"
  },
  "language_info": {
   "file_extension": ".jl",
   "mimetype": "application/julia",
   "name": "julia",
   "version": "1.9.3"
  }
 },
 "nbformat": 4,
 "nbformat_minor": 2
}
