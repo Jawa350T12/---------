{
 "cells": [
  {
   "cell_type": "code",
   "execution_count": 1,
   "metadata": {},
   "outputs": [],
   "source": [
    "using HorizonSideRobots"
   ]
  },
  {
   "cell_type": "code",
   "execution_count": 10,
   "metadata": {},
   "outputs": [
    {
     "name": "stderr",
     "output_type": "stream",
     "text": [
      "┌ Warning: Found `resolution` in the theme when creating a `Scene`. The `resolution` keyword for `Scene`s and `Figure`s has been deprecated. Use `Figure(; size = ...` or `Scene(; size = ...)` instead, which better reflects that this is a unitless size and not a pixel resolution. The key could also come from `set_theme!` calls or related theming functions.\n",
      "└ @ Makie /home/all_world_is_my/.julia/packages/Makie/6NLuU/src/scenes.jl:220\n"
     ]
    },
    {
     "data": {
      "text/plain": [
       "Robot(HorizonSideRobots.SituationDatas.SituationData((0x000000000000000b, 0x000000000000000c), 1.0, true, (11, 1), [479 225 … 0 -73; 87 308 … 207 21; … ; 412 441 … -158 487; 431 5 … -53 185], Set{Tuple{Int64, Int64}}(), Set{HorizonSide}[Set() Set() … Set() Set(); Set() Set() … Set() Set(); … ; Set() Set() … Set() Set(); Set() Set() … Set() Set()], (Scene (780px, 715px):\n",
       "  0 Plots\n",
       "  1 Child Scene:\n",
       "    └ Scene (780px, 715px), Axis (6 plots))), true)"
      ]
     },
     "metadata": {},
     "output_type": "display_data"
    }
   ],
   "source": [
    "r=Robot(animate=true)"
   ]
  },
  {
   "cell_type": "code",
   "execution_count": 3,
   "metadata": {},
   "outputs": [
    {
     "data": {
      "text/plain": [
       "full_field_in_marks! (generic function with 1 method)"
      ]
     },
     "metadata": {},
     "output_type": "display_data"
    }
   ],
   "source": [
    "function full_field_in_marks!(r::Robot) \n",
    "    num_vert = get_num_steps_movements!(r, Sud)\n",
    "    num_hor = get_num_steps_movements!(r, West)#Левый нижний угол\n",
    "\n",
    "    side = Ost\n",
    "    mark_row!(r,side) #Идем змейкой и ставим маркеры\n",
    "    putmarker!(r) #последней маркер в северном углу #Северная граница\n",
    "\n",
    "    movements!(r,Sud)\n",
    "    movements!(r, West) #Левый нижний угол\n",
    "\n",
    "    #Возвращение в первоначальную позицию\n",
    "    back_movements!(r,Ost,num_hor)\n",
    "    back_movements!(r,Nord,num_vert)\n",
    "end"
   ]
  },
  {
   "cell_type": "code",
   "execution_count": 4,
   "metadata": {},
   "outputs": [
    {
     "data": {
      "text/plain": [
       "invers (generic function with 1 method)"
      ]
     },
     "metadata": {},
     "output_type": "display_data"
    }
   ],
   "source": [
    "invers(side::HorizonSide) = HorizonSide(mod(Int(side) + 2,4)) "
   ]
  },
  {
   "cell_type": "code",
   "execution_count": 5,
   "metadata": {},
   "outputs": [
    {
     "data": {
      "text/plain": [
       "mark_row! (generic function with 1 method)"
      ]
     },
     "metadata": {},
     "output_type": "display_data"
    }
   ],
   "source": [
    "function mark_row!(r::Robot,side::HorizonSide) #Движение змейкой\n",
    "    while !isborder(r,side) #По горизонтали\n",
    "        putmarker!(r)\n",
    "        move!(r,side)\n",
    "    end\n",
    "    if  !isborder(r,Nord) #По вертикали\n",
    "        putmarker!(r)\n",
    "        move!(r,Nord)\n",
    "        side = invers(side::HorizonSide)\n",
    "        mark_row!(r,side)\n",
    "    end\n",
    "end"
   ]
  },
  {
   "cell_type": "code",
   "execution_count": 6,
   "metadata": {},
   "outputs": [
    {
     "data": {
      "text/plain": [
       "get_num_steps_movements! (generic function with 1 method)"
      ]
     },
     "metadata": {},
     "output_type": "display_data"
    }
   ],
   "source": [
    "function get_num_steps_movements!(r::Robot, side::HorizonSide) #без встречи с преградой идём в направлении side и запоминаем кол-во шагов\n",
    "    num_steps = 0\n",
    "    while isborder(r, side) == false \n",
    "        move!(r,side)\n",
    "        num_steps += 1\n",
    "    end\n",
    "    return num_steps\n",
    "end\n"
   ]
  },
  {
   "cell_type": "code",
   "execution_count": 7,
   "metadata": {},
   "outputs": [
    {
     "data": {
      "text/plain": [
       "movements! (generic function with 1 method)"
      ]
     },
     "metadata": {},
     "output_type": "display_data"
    }
   ],
   "source": [
    "function movements!(r::Robot,side::HorizonSide) #Движение до преграды\n",
    "    while !isborder(r,side)\n",
    "        move!(r,side)\n",
    "    end\n",
    "end\n"
   ]
  },
  {
   "cell_type": "code",
   "execution_count": 8,
   "metadata": {},
   "outputs": [
    {
     "data": {
      "text/plain": [
       "back_movements! (generic function with 1 method)"
      ]
     },
     "metadata": {},
     "output_type": "display_data"
    }
   ],
   "source": [
    "function back_movements!(r::Robot,side::HorizonSide,num_steps::Int) #возвращаемся на num_steps шагов\n",
    "    for _ in 1:num_steps\n",
    "        move!(r,side)\n",
    "    end\n",
    "end"
   ]
  },
  {
   "cell_type": "code",
   "execution_count": 9,
   "metadata": {},
   "outputs": [
    {
     "data": {
      "text/plain": [
       "main (generic function with 1 method)"
      ]
     },
     "metadata": {},
     "output_type": "display_data"
    }
   ],
   "source": [
    "function main()\n",
    "    full_field_in_marks!(r)\n",
    "end"
   ]
  },
  {
   "cell_type": "code",
   "execution_count": 11,
   "metadata": {},
   "outputs": [],
   "source": [
    "main()"
   ]
  }
 ],
 "metadata": {
  "kernelspec": {
   "display_name": "Julia 1.9.3",
   "language": "julia",
   "name": "julia-1.9"
  },
  "language_info": {
   "file_extension": ".jl",
   "mimetype": "application/julia",
   "name": "julia",
   "version": "1.9.3"
  }
 },
 "nbformat": 4,
 "nbformat_minor": 2
}
