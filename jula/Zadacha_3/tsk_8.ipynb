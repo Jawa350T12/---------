{
 "cells": [
  {
   "cell_type": "code",
   "execution_count": 1,
   "metadata": {},
   "outputs": [],
   "source": [
    "using HorizonSideRobots"
   ]
  },
  {
   "cell_type": "code",
   "execution_count": 2,
   "metadata": {},
   "outputs": [
    {
     "data": {
      "text/plain": [
       "Robot(HorizonSideRobots.SituationDatas.SituationData((0x000000000000000b, 0x000000000000000c), 1.0, true, (11, 1), [-240 171 … -63 372; 68 -214 … -109 97; … ; -174 94 … 364 183; -42 -184 … -7 369], Set{Tuple{Int64, Int64}}(), Set{HorizonSide}[Set() Set() … Set() Set(); Set() Set() … Set() Set(); … ; Set() Set() … Set() Set(); Set() Set() … Set() Set()], (Scene (780px, 715px):\n",
       "  0 Plots\n",
       "  1 Child Scene:\n",
       "    └ Scene (780px, 715px), Axis (6 plots))), true)"
      ]
     },
     "metadata": {},
     "output_type": "display_data"
    }
   ],
   "source": [
    "r=Robot(animate=true)"
   ]
  },
  {
   "cell_type": "code",
   "execution_count": 3,
   "metadata": {},
   "outputs": [
    {
     "data": {
      "text/plain": [
       "move_snake_until_marker! (generic function with 1 method)"
      ]
     },
     "metadata": {},
     "output_type": "display_data"
    }
   ],
   "source": [
    "function move_snake_until_marker!(r::Robot)\n",
    "    n_steps = 1\n",
    "    cur_side = Ost\n",
    "    counter = 1\n",
    "    while true\n",
    "\n",
    "        if moves_if_not_marker!(r, cur_side, n_steps)\n",
    "            return\n",
    "        end \n",
    "\n",
    "        cur_side = next_side(cur_side)\n",
    "\n",
    "        if counter % 2 == 0\n",
    "            n_steps += 1\n",
    "        end\n",
    "\n",
    "        counter += 1\n",
    "    end\n",
    "end"
   ]
  },
  {
   "cell_type": "code",
   "execution_count": 4,
   "metadata": {},
   "outputs": [
    {
     "data": {
      "text/plain": [
       "next_side (generic function with 1 method)"
      ]
     },
     "metadata": {},
     "output_type": "display_data"
    }
   ],
   "source": [
    "function next_side(side::HorizonSide)::HorizonSide\n",
    "    return HorizonSide( (Int(side) + 1 ) % 4 )\n",
    "end\n"
   ]
  },
  {
   "cell_type": "code",
   "execution_count": 5,
   "metadata": {},
   "outputs": [
    {
     "data": {
      "text/plain": [
       "moves_if_not_marker! (generic function with 1 method)"
      ]
     },
     "metadata": {},
     "output_type": "display_data"
    }
   ],
   "source": [
    "function moves_if_not_marker!(r::Robot, side::HorizonSide, n_steps::Int)::Bool\n",
    "\n",
    "    for _ in 1:n_steps\n",
    "        if move_if_not_marker!(r, side)\n",
    "            return true\n",
    "        end\n",
    "    end\n",
    "    \n",
    "    return false\n",
    "end"
   ]
  },
  {
   "cell_type": "code",
   "execution_count": 6,
   "metadata": {},
   "outputs": [
    {
     "data": {
      "text/plain": [
       "move_if_not_marker! (generic function with 1 method)"
      ]
     },
     "metadata": {},
     "output_type": "display_data"
    }
   ],
   "source": [
    "function move_if_not_marker!(r::Robot, side::HorizonSide)::Bool\n",
    "    \n",
    "    if !ismarker(r)\n",
    "        move!(r, side)\n",
    "        return false\n",
    "    end\n",
    "\n",
    "    return true\n",
    "end"
   ]
  },
  {
   "cell_type": "code",
   "execution_count": 8,
   "metadata": {},
   "outputs": [],
   "source": [
    "move_snake_until_marker!(r)"
   ]
  }
 ],
 "metadata": {
  "kernelspec": {
   "display_name": "Julia 1.9.3",
   "language": "julia",
   "name": "julia-1.9"
  },
  "language_info": {
   "file_extension": ".jl",
   "mimetype": "application/julia",
   "name": "julia",
   "version": "1.9.3"
  }
 },
 "nbformat": 4,
 "nbformat_minor": 2
}
