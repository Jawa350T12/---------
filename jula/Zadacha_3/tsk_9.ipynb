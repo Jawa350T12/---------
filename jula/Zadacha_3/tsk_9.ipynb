{
 "cells": [
  {
   "cell_type": "code",
   "execution_count": 1,
   "metadata": {},
   "outputs": [],
   "source": [
    "using HorizonSideRobots"
   ]
  },
  {
   "cell_type": "code",
   "execution_count": 15,
   "metadata": {},
   "outputs": [
    {
     "data": {
      "text/plain": [
       "Robot(HorizonSideRobots.SituationDatas.SituationData((0x000000000000000b, 0x000000000000000c), 1.0, true, (11, 1), [411 65 … 432 -159; 473 -44 … -65 -163; … ; 29 431 … -40 -265; -50 272 … -33 219], Set{Tuple{Int64, Int64}}(), Set{HorizonSide}[Set() Set() … Set() Set(); Set() Set() … Set() Set(); … ; Set() Set() … Set() Set(); Set() Set() … Set() Set()], (Scene (780px, 715px):\n",
       "  0 Plots\n",
       "  1 Child Scene:\n",
       "    └ Scene (780px, 715px), Axis (6 plots))), true)"
      ]
     },
     "metadata": {},
     "output_type": "display_data"
    }
   ],
   "source": [
    "r=Robot(animate=true)"
   ]
  },
  {
   "cell_type": "code",
   "execution_count": 3,
   "metadata": {},
   "outputs": [
    {
     "data": {
      "text/plain": [
       "mark_chess! (generic function with 1 method)"
      ]
     },
     "metadata": {},
     "output_type": "display_data"
    }
   ],
   "source": [
    "function mark_chess!(r::Robot)\n",
    "    \n",
    "    steps = get_left_down_angle!(r)\n",
    "    to_mark = (steps[1] + steps[2]) % 2 == 0\n",
    "    steps_to_ost_border = move_until_border!(r, Ost)\n",
    "    move_until_border!(r, West)\n",
    "    last_side = steps_to_ost_border % 2 == 1 ? Sud : Nord\n",
    "\n",
    "    side = Nord\n",
    "\n",
    "    while !isborder(r, Ost)\n",
    "        \n",
    "        while !isborder(r, side)\n",
    "            if to_mark\n",
    "                putmarker!(r)\n",
    "            end\n",
    "\n",
    "            move!(r, side)\n",
    "            to_mark = !to_mark\n",
    "        end\n",
    "\n",
    "        if to_mark\n",
    "            putmarker!(r)\n",
    "        end\n",
    "\n",
    "        move!(r, Ost)\n",
    "        to_mark = !to_mark\n",
    "        \n",
    "        side = inverse_side(side)\n",
    "    end\n",
    "\n",
    "    while !isborder(r, last_side)\n",
    "        \n",
    "        while !isborder(r, side)\n",
    "            if to_mark\n",
    "                putmarker!(r)\n",
    "            end\n",
    "\n",
    "            move!(r, side)\n",
    "            to_mark = !to_mark\n",
    "        end\n",
    "\n",
    "        if to_mark\n",
    "            putmarker!(r)\n",
    "        end\n",
    "\n",
    "    end\n",
    "\n",
    "    get_left_down_angle!(r)\n",
    "    get_to_origin!(r, steps)\n",
    "end"
   ]
  },
  {
   "cell_type": "code",
   "execution_count": 4,
   "metadata": {},
   "outputs": [
    {
     "data": {
      "text/plain": [
       "get_to_origin! (generic function with 1 method)"
      ]
     },
     "metadata": {},
     "output_type": "display_data"
    }
   ],
   "source": [
    "function get_to_origin!(r::Robot, steps_to_origin::NTuple{2, Int})\n",
    "    for (i, side) in enumerate((Nord, Ost))\n",
    "        moves!(r, side, steps_to_origin[i])\n",
    "    end\n",
    "end"
   ]
  },
  {
   "cell_type": "code",
   "execution_count": 5,
   "metadata": {},
   "outputs": [
    {
     "data": {
      "text/plain": [
       "get_left_down_angle! (generic function with 1 method)"
      ]
     },
     "metadata": {},
     "output_type": "display_data"
    }
   ],
   "source": [
    "function get_left_down_angle!(r::Robot)::NTuple{2, Int}# перемещает робота в нижний левый угол, возвращает количество шагов\n",
    "    steps_to_left_border = move_until_border!(r, West)\n",
    "    steps_to_down_border = move_until_border!(r, Sud)\n",
    "    return (steps_to_down_border, steps_to_left_border)\n",
    "end\n"
   ]
  },
  {
   "cell_type": "code",
   "execution_count": 6,
   "metadata": {},
   "outputs": [
    {
     "data": {
      "text/plain": [
       "move_until_border! (generic function with 1 method)"
      ]
     },
     "metadata": {},
     "output_type": "display_data"
    }
   ],
   "source": [
    "function move_until_border!(r::Robot, side::HorizonSide)::Int\n",
    "    n_steps = 0\n",
    "    while !isborder(r, side)\n",
    "        n_steps += 1\n",
    "        move!(r, side)\n",
    "    end\n",
    "    return n_steps\n",
    "end"
   ]
  },
  {
   "cell_type": "code",
   "execution_count": 9,
   "metadata": {},
   "outputs": [
    {
     "data": {
      "text/plain": [
       "inverse_side (generic function with 1 method)"
      ]
     },
     "metadata": {},
     "output_type": "display_data"
    }
   ],
   "source": [
    "function inverse_side(side::HorizonSide)::HorizonSide\n",
    "    inv_side = HorizonSide((Int(side) + 2) % 4)\n",
    "    return inv_side\n",
    "end"
   ]
  },
  {
   "cell_type": "code",
   "execution_count": 14,
   "metadata": {},
   "outputs": [
    {
     "data": {
      "text/plain": [
       "moves! (generic function with 1 method)"
      ]
     },
     "metadata": {},
     "output_type": "display_data"
    }
   ],
   "source": [
    "function moves!(r::Robot, side::HorizonSide, n_steps::Int)\n",
    "    for i in 1:n_steps\n",
    "        move!(r, side)\n",
    "    end\n",
    "end"
   ]
  },
  {
   "cell_type": "code",
   "execution_count": 16,
   "metadata": {},
   "outputs": [],
   "source": [
    "mark_chess!(r)"
   ]
  }
 ],
 "metadata": {
  "kernelspec": {
   "display_name": "Julia 1.9.3",
   "language": "julia",
   "name": "julia-1.9"
  },
  "language_info": {
   "file_extension": ".jl",
   "mimetype": "application/julia",
   "name": "julia",
   "version": "1.9.3"
  }
 },
 "nbformat": 4,
 "nbformat_minor": 2
}
