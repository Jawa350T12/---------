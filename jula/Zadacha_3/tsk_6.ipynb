{
 "cells": [
  {
   "cell_type": "code",
   "execution_count": 1,
   "metadata": {},
   "outputs": [],
   "source": [
    "using HorizonSideRobots"
   ]
  },
  {
   "cell_type": "code",
   "execution_count": 19,
   "metadata": {},
   "outputs": [
    {
     "data": {
      "text/plain": [
       "Robot(HorizonSideRobots.SituationDatas.SituationData((0x000000000000000b, 0x000000000000000c), 1.0, true, (11, 1), [500 141 … -109 286; 462 466 … -169 124; … ; -123 44 … -213 295; 490 391 … -36 184], Set{Tuple{Int64, Int64}}(), Set{HorizonSide}[Set() Set() … Set() Set(); Set() Set() … Set() Set(); … ; Set() Set() … Set() Set(); Set() Set() … Set() Set()], (Scene (780px, 715px):\n",
       "  0 Plots\n",
       "  1 Child Scene:\n",
       "    └ Scene (780px, 715px), Axis (6 plots))), true)"
      ]
     },
     "metadata": {},
     "output_type": "display_data"
    }
   ],
   "source": [
    "r=Robot(animate=true)"
   ]
  },
  {
   "cell_type": "code",
   "execution_count": 3,
   "metadata": {},
   "outputs": [
    {
     "data": {
      "text/plain": [
       "moves! (generic function with 1 method)"
      ]
     },
     "metadata": {},
     "output_type": "display_data"
    }
   ],
   "source": [
    "function moves!(r::Robot, side::HorizonSide, n_steps::Int)\n",
    "    for i in 1:n_steps\n",
    "        move!(r, side)\n",
    "    end\n",
    "end"
   ]
  },
  {
   "cell_type": "code",
   "execution_count": 4,
   "metadata": {},
   "outputs": [
    {
     "data": {
      "text/plain": [
       "make_way_back! (generic function with 1 method)"
      ]
     },
     "metadata": {},
     "output_type": "display_data"
    }
   ],
   "source": [
    "function make_way_back!(r::Robot, path::Vector{Tuple{HorizonSide, Int}})\n",
    "    inv_path = inversed_path(path)\n",
    "    make_way!(r, inv_path)\n",
    "end"
   ]
  },
  {
   "cell_type": "code",
   "execution_count": 5,
   "metadata": {},
   "outputs": [
    {
     "data": {
      "text/plain": [
       "mark_perimetr_with_inner_border! (generic function with 1 method)"
      ]
     },
     "metadata": {},
     "output_type": "display_data"
    }
   ],
   "source": [
    "function mark_perimetr_with_inner_border!(r::Robot) # подзадача а\n",
    "    path = get_left_down_angle_modified!(r)\n",
    "    mark_perimetr!(r)\n",
    "    make_way_back!(r, path)\n",
    "end"
   ]
  },
  {
   "cell_type": "code",
   "execution_count": 6,
   "metadata": {},
   "outputs": [
    {
     "data": {
      "text/plain": [
       "moves_if_possible! (generic function with 1 method)"
      ]
     },
     "metadata": {},
     "output_type": "display_data"
    }
   ],
   "source": [
    "function moves_if_possible!(r::Robot, side::HorizonSide, n_steps::Int)::Bool\n",
    "    \n",
    "    while n_steps > 0 && move_if_possible!(r, side)\n",
    "        n_steps -= 1\n",
    "    end\n",
    "\n",
    "    if n_steps == 0\n",
    "        return true\n",
    "    end\n",
    "\n",
    "    return false\n",
    "end"
   ]
  },
  {
   "cell_type": "code",
   "execution_count": 7,
   "metadata": {},
   "outputs": [
    {
     "data": {
      "text/plain": [
       "move_until_border! (generic function with 1 method)"
      ]
     },
     "metadata": {},
     "output_type": "display_data"
    }
   ],
   "source": [
    "function move_until_border!(r::Robot, side::HorizonSide)::Int\n",
    "    n_steps = 0\n",
    "    while !isborder(r, side)\n",
    "        n_steps += 1\n",
    "        move!(r, side)\n",
    "    end\n",
    "    return n_steps\n",
    "end"
   ]
  },
  {
   "cell_type": "code",
   "execution_count": 11,
   "metadata": {},
   "outputs": [
    {
     "data": {
      "text/plain": [
       "get_left_down_angle_modified! (generic function with 1 method)"
      ]
     },
     "metadata": {},
     "output_type": "display_data"
    }
   ],
   "source": [
    "function get_left_down_angle_modified!(r::Robot)::Vector{Tuple{HorizonSide, Int}}\n",
    "    steps = []\n",
    "    while !(isborder(r, West) && isborder(r, Sud))\n",
    "        steps_to_West = move_until_border!(r, West)\n",
    "        steps_to_Sud = move_until_border!(r, Sud)\n",
    "        push!(steps, (West, steps_to_West))\n",
    "        push!(steps, (Sud, steps_to_Sud))\n",
    "    end\n",
    "    return steps\n",
    "end"
   ]
  },
  {
   "cell_type": "code",
   "execution_count": 9,
   "metadata": {},
   "outputs": [
    {
     "data": {
      "text/plain": [
       "mark_four_cells! (generic function with 1 method)"
      ]
     },
     "metadata": {},
     "output_type": "display_data"
    }
   ],
   "source": [
    "function mark_four_cells!(r::Robot) #подзадача б \n",
    "    path = get_left_down_angle_modified!(r)\n",
    "    n_steps_to_sud = 0\n",
    "    n_steps_to_west = 0\n",
    "    for step in path\n",
    "        if step[1] == Sud\n",
    "            n_steps_to_sud += step[2]\n",
    "        else\n",
    "            n_steps_to_west += step[2]\n",
    "        end\n",
    "    end\n",
    "\n",
    "    moves!(r, Ost, n_steps_to_west)\n",
    "    putmarker!(r)\n",
    "    move_until_border!(r, Ost)\n",
    "    moves!(r, Nord, n_steps_to_sud)\n",
    "    putmarker!(r)\n",
    "    get_left_down_angle_modified!(r)\n",
    "\n",
    "    moves!(r, Nord, n_steps_to_sud)\n",
    "    putmarker!(r)\n",
    "    move_until_border!(r, Nord)\n",
    "    moves!(r, Ost, n_steps_to_west)\n",
    "    putmarker!(r)\n",
    "    get_left_down_angle_modified!(r)\n",
    "\n",
    "    make_way_back!(r, path)\n",
    "end"
   ]
  },
  {
   "cell_type": "code",
   "execution_count": 13,
   "metadata": {},
   "outputs": [
    {
     "data": {
      "text/plain": [
       "inversed_path (generic function with 1 method)"
      ]
     },
     "metadata": {},
     "output_type": "display_data"
    }
   ],
   "source": [
    "function inversed_path(path::Vector{Tuple{HorizonSide, Int}})::Vector{Tuple{HorizonSide, Int}}\n",
    "    inv_path = []\n",
    "    for step in path\n",
    "        inv_step = (inverse_side(step[1]), step[2])\n",
    "        push!(inv_path, inv_step)\n",
    "    end\n",
    "    reverse!(inv_path)\n",
    "    return inv_path\n",
    "end"
   ]
  },
  {
   "cell_type": "code",
   "execution_count": 15,
   "metadata": {},
   "outputs": [
    {
     "data": {
      "text/plain": [
       "make_way! (generic function with 1 method)"
      ]
     },
     "metadata": {},
     "output_type": "display_data"
    }
   ],
   "source": [
    "function make_way!(r::Robot, path::Vector{Tuple{HorizonSide, Int}})\n",
    "    for step in path\n",
    "        moves!(r, step[1], step[2])\n",
    "    end\n",
    "end"
   ]
  },
  {
   "cell_type": "code",
   "execution_count": 20,
   "metadata": {},
   "outputs": [
    {
     "ename": "UndefVarError",
     "evalue": "UndefVarError: `inverse_side` not defined",
     "output_type": "error",
     "traceback": [
      "UndefVarError: `inverse_side` not defined\n",
      "\n",
      "Stacktrace:\n",
      " [1] inversed_path(path::Vector{Tuple{HorizonSide, Int64}})\n",
      "   @ Main c:\\Users\\vlver\\Documents\\Унивеееер\\jula\\Zadacha_3\\tsk_6.ipynb:4\n",
      " [2] make_way_back!(r::Robot, path::Vector{Tuple{HorizonSide, Int64}})\n",
      "   @ Main c:\\Users\\vlver\\Documents\\Унивеееер\\jula\\Zadacha_3\\tsk_6.ipynb:2\n",
      " [3] mark_four_cells!(r::Robot)\n",
      "   @ Main c:\\Users\\vlver\\Documents\\Унивеееер\\jula\\Zadacha_3\\tsk_6.ipynb:27\n",
      " [4] top-level scope\n",
      "   @ c:\\Users\\vlver\\Documents\\Унивеееер\\jula\\Zadacha_3\\tsk_6.ipynb:1"
     ]
    }
   ],
   "source": [
    "mark_four_cells!(r)"
   ]
  }
 ],
 "metadata": {
  "kernelspec": {
   "display_name": "Julia 1.9.3",
   "language": "julia",
   "name": "julia-1.9"
  },
  "language_info": {
   "file_extension": ".jl",
   "mimetype": "application/julia",
   "name": "julia",
   "version": "1.9.3"
  }
 },
 "nbformat": 4,
 "nbformat_minor": 2
}
