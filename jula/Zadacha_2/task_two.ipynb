{
 "cells": [
  {
   "cell_type": "code",
   "execution_count": 1,
   "metadata": {},
   "outputs": [
    {
     "data": {
      "text/plain": [
       "Robot(HorizonSideRobots.SituationDatas.SituationData((0x000000000000000b, 0x000000000000000c), 1.0, true, (11, 1), [165 426 … -265 475; 178 376 … -66 349; … ; -65 -223 … 305 45; 300 496 … 157 -62], Set{Tuple{Int64, Int64}}(), Set{HorizonSide}[Set() Set() … Set() Set(); Set() Set() … Set() Set(); … ; Set() Set() … Set() Set(); Set() Set() … Set() Set()], (Scene (780px, 715px):\n",
       "  0 Plots\n",
       "  1 Child Scene:\n",
       "    └ Scene (780px, 715px), Axis (6 plots))), true)"
      ]
     },
     "metadata": {},
     "output_type": "display_data"
    }
   ],
   "source": [
    "using HorizonSideRobots\n",
    "r=Robot(animate=true)"
   ]
  },
  {
   "cell_type": "code",
   "execution_count": 2,
   "metadata": {},
   "outputs": [
    {
     "data": {
      "text/plain": [
       "start (generic function with 1 method)"
      ]
     },
     "metadata": {},
     "output_type": "display_data"
    }
   ],
   "source": [
    "function start()\n",
    "    while !isborder(r,Sud)\n",
    "        move!(r,Sud)\n",
    "    end\n",
    "    while !isborder(r,West)\n",
    "        move!(r,West)\n",
    "    end\n",
    "end"
   ]
  },
  {
   "cell_type": "code",
   "execution_count": 3,
   "metadata": {},
   "outputs": [
    {
     "data": {
      "text/plain": [
       "along! (generic function with 1 method)"
      ]
     },
     "metadata": {},
     "output_type": "display_data"
    }
   ],
   "source": [
    "function along!(robot,side)\n",
    "    while !isborder(robot,side)\n",
    "        if ismarker(robot)\n",
    "            move!(robot,side)\n",
    "        else\n",
    "            putmarker!(robot)\n",
    "        end\n",
    "    end\n",
    "end"
   ]
  },
  {
   "cell_type": "code",
   "execution_count": 4,
   "metadata": {},
   "outputs": [
    {
     "data": {
      "text/plain": [
       "main (generic function with 1 method)"
      ]
     },
     "metadata": {},
     "output_type": "display_data"
    }
   ],
   "source": [
    "function main()\n",
    "    start()\n",
    "    along!(r,Nord)\n",
    "    along!(r,Ost)\n",
    "    along!(r,Sud)\n",
    "    along!(r,West)\n",
    "end"
   ]
  },
  {
   "cell_type": "code",
   "execution_count": 5,
   "metadata": {},
   "outputs": [],
   "source": [
    "main()"
   ]
  }
 ],
 "metadata": {
  "kernelspec": {
   "display_name": "Julia 1.9.3",
   "language": "julia",
   "name": "julia-1.9"
  },
  "language_info": {
   "file_extension": ".jl",
   "mimetype": "application/julia",
   "name": "julia",
   "version": "1.9.3"
  }
 },
 "nbformat": 4,
 "nbformat_minor": 2
}
